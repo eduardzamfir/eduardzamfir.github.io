{
  "nbformat": 4,
  "nbformat_minor": 0,
  "metadata": {
    "colab": {
      "provenance": [],
      "collapsed_sections": [],
      "toc_visible": true,
      "authorship_tag": "ABX9TyP7j877B84ICC5idh7XFJeO",
      "include_colab_link": true
    },
    "kernelspec": {
      "name": "python3",
      "display_name": "Python 3"
    },
    "language_info": {
      "name": "python"
    }
  },
  "cells": [
    {
      "cell_type": "markdown",
      "metadata": {
        "id": "view-in-github",
        "colab_type": "text"
      },
      "source": [
        "<a href=\"https://colab.research.google.com/github/eduardzamfir/eduardzamfir.github.io/blob/master/Image_Processing_and_Computational_Photography.ipynb\" target=\"_parent\"><img src=\"https://colab.research.google.com/assets/colab-badge.svg\" alt=\"Open In Colab\"/></a>"
      ]
    },
    {
      "cell_type": "markdown",
      "source": [
        "# **Image and Sensor Quality Assessment**\n",
        "\n",
        "**Content**\n",
        "\n",
        "1. Reference-based Metrics\n",
        "2. No-reference metrics\n",
        "\n"
      ],
      "metadata": {
        "id": "E_tyqoTW9D8J"
      }
    },
    {
      "cell_type": "markdown",
      "source": [
        "### Required packages"
      ],
      "metadata": {
        "id": "-hbdnuOPB0EQ"
      }
    },
    {
      "cell_type": "code",
      "source": [
        "import sys, os\n",
        "import math\n",
        "import numpy as np\n",
        "import pandas as pd\n",
        "import cv2\n",
        "import matplotlib as mpl\n",
        "import matplotlib.pyplot as plt\n",
        "import skimage"
      ],
      "metadata": {
        "id": "WzVLQP1fB6gg"
      },
      "execution_count": null,
      "outputs": []
    },
    {
      "cell_type": "markdown",
      "source": [
        "### 1. Reference-based Metrics\n",
        "\n",
        "1. **Mean Squared Error**\n",
        "$$ \\text{MSE} = \\frac{1}{N} \\sum_{i=0}^{N} (x - y)^2 $$\n",
        "\n"
      ],
      "metadata": {
        "id": "TM_gM2hY-yJs"
      }
    },
    {
      "cell_type": "code",
      "source": [
        "def mse(target, ref):\n",
        "    target_data = target.astype(np.float32)\n",
        "    ref_data = ref.astype(np.float32)\n",
        "    err = np.sum((target_data - ref_data) ** 2)\n",
        "    \n",
        "    err /= np.float(target_data.shape[0] * target_data.shape[1])\n",
        "    return err"
      ],
      "metadata": {
        "id": "UTkWuzwOBeHm"
      },
      "execution_count": null,
      "outputs": []
    },
    {
      "cell_type": "markdown",
      "source": [
        "\n",
        "2. **Peak-Signat-to-Noise Ratio (PSNR)**\n",
        "\n",
        "PSNR expresses the ratio of a signal between its maximum possible value and noise present in its current measurement which distorts the original signal representation. Image quality assessment can be highly subjective, differing from person to person. In below Eq., $y$ represents the original image while $x$ is the degraded counterpart. The MSE allows to compare ”true” pixel values to the values produced by, *e.g.* restoration algorithms. PSNR relies on numeric comparison between images and disregards characteristics of the human vision system.\n",
        "\n",
        "$$ \\begin{aligned} \\text{PSNR} &= 20 \\cdot \\log_{10} \\Big(\\frac{\\max(y)}{\\sqrt{\\text{MSE(x, y)}}}\\Big) \\\\\n",
        "\\end{aligned} $$\n"
      ],
      "metadata": {
        "id": "Uvf3-rogA71j"
      }
    },
    {
      "cell_type": "code",
      "source": [
        "def psnr(target, ref):\n",
        "    # Assume target is RGB/BGR image\n",
        "    target_data = target.astype(np.float32)\n",
        "    ref_data = ref.astype(np.float32)\n",
        "    \n",
        "    diff = ref_data - target_data\n",
        "    diff = diff.flatten('C')\n",
        "    \n",
        "    rmse = np.sqrt(np.mean(diff ** 2.))\n",
        "    \n",
        "    return 20 * np.log10(255. / rmse)"
      ],
      "metadata": {
        "id": "Gr5PVaw8BoPa"
      },
      "execution_count": null,
      "outputs": []
    },
    {
      "cell_type": "markdown",
      "source": [
        "3. **SSIM**\n",
        "\n",
        "proposed by Wang et al. in \"Image Quality Assessment: From Error Visibility to Structural Similarity\" \n",
        "\n",
        "(https://www.cns.nyu.edu/pub/eero/wang03-reprint.pdf)\n",
        "\n",
        "\n",
        "For constructing a metric reflecting properties of the human visual system, SSIM extracts three features from images, *luminance*, *contrast* and *structure*. Luminance $l$ is measured by computing the average over all pixel values. Contrast $c$ is the standard deviation of pixel values. Structure $s$ is computed as a normalization of given image $x$ with its mean $μ$ and standard deviation $σ$. Next, comparison functions between predicted images and target images estimate the differences between images w.r.t each feature. Lastly, a combination function determines the final SSIM value scaled between $[0, 1]$, where $0$ is lowest and $1$ is highest possible value, respectively.\n",
        "\n",
        "- add here formulas from master thesis"
      ],
      "metadata": {
        "id": "c5bFgDndBF85"
      }
    },
    {
      "cell_type": "code",
      "source": [
        "def _ssim(target, reg):\n",
        "  pass"
      ],
      "metadata": {
        "id": "qZD2B7IuCh_L"
      },
      "execution_count": null,
      "outputs": []
    },
    {
      "cell_type": "code",
      "source": [
        "def ssim(target, ref):\n",
        "  return _ssim(target, ref)"
      ],
      "metadata": {
        "id": "sy8QncdrCYtQ"
      },
      "execution_count": null,
      "outputs": []
    },
    {
      "cell_type": "markdown",
      "source": [
        "4. FSIM"
      ],
      "metadata": {
        "id": "M668yqKnBLKa"
      }
    },
    {
      "cell_type": "markdown",
      "source": [
        "5. NIQE"
      ],
      "metadata": {
        "id": "-eILkCnuBP6a"
      }
    },
    {
      "cell_type": "markdown",
      "source": [
        "5. LPIPS"
      ],
      "metadata": {
        "id": "vAXPrZvLBSfr"
      }
    },
    {
      "cell_type": "markdown",
      "source": [
        "6. FID"
      ],
      "metadata": {
        "id": "Eki9Ln45BXt3"
      }
    }
  ]
}